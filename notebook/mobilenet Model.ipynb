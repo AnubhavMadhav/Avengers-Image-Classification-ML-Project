{
 "cells": [
  {
   "cell_type": "markdown",
   "metadata": {},
   "source": [
    "https://keras.io/applications/#mobilenet\n",
    "\n",
    "https://gist.github.com/yrevar/942d3a0ac09ec9e5eb3a#file-imagenet1000_clsidx_to_labels-txt"
   ]
  },
  {
   "cell_type": "code",
   "execution_count": 1,
   "metadata": {},
   "outputs": [
    {
     "name": "stderr",
     "output_type": "stream",
     "text": [
      "Using TensorFlow backend.\n",
      "c:\\users\\themachine\\.conda\\envs\\python36\\lib\\site-packages\\tensorflow\\python\\framework\\dtypes.py:526: FutureWarning: Passing (type, 1) or '1type' as a synonym of type is deprecated; in a future version of numpy, it will be understood as (type, (1,)) / '(1,)type'.\n",
      "  _np_qint8 = np.dtype([(\"qint8\", np.int8, 1)])\n",
      "c:\\users\\themachine\\.conda\\envs\\python36\\lib\\site-packages\\tensorflow\\python\\framework\\dtypes.py:527: FutureWarning: Passing (type, 1) or '1type' as a synonym of type is deprecated; in a future version of numpy, it will be understood as (type, (1,)) / '(1,)type'.\n",
      "  _np_quint8 = np.dtype([(\"quint8\", np.uint8, 1)])\n",
      "c:\\users\\themachine\\.conda\\envs\\python36\\lib\\site-packages\\tensorflow\\python\\framework\\dtypes.py:528: FutureWarning: Passing (type, 1) or '1type' as a synonym of type is deprecated; in a future version of numpy, it will be understood as (type, (1,)) / '(1,)type'.\n",
      "  _np_qint16 = np.dtype([(\"qint16\", np.int16, 1)])\n",
      "c:\\users\\themachine\\.conda\\envs\\python36\\lib\\site-packages\\tensorflow\\python\\framework\\dtypes.py:529: FutureWarning: Passing (type, 1) or '1type' as a synonym of type is deprecated; in a future version of numpy, it will be understood as (type, (1,)) / '(1,)type'.\n",
      "  _np_quint16 = np.dtype([(\"quint16\", np.uint16, 1)])\n",
      "c:\\users\\themachine\\.conda\\envs\\python36\\lib\\site-packages\\tensorflow\\python\\framework\\dtypes.py:530: FutureWarning: Passing (type, 1) or '1type' as a synonym of type is deprecated; in a future version of numpy, it will be understood as (type, (1,)) / '(1,)type'.\n",
      "  _np_qint32 = np.dtype([(\"qint32\", np.int32, 1)])\n",
      "c:\\users\\themachine\\.conda\\envs\\python36\\lib\\site-packages\\tensorflow\\python\\framework\\dtypes.py:535: FutureWarning: Passing (type, 1) or '1type' as a synonym of type is deprecated; in a future version of numpy, it will be understood as (type, (1,)) / '(1,)type'.\n",
      "  np_resource = np.dtype([(\"resource\", np.ubyte, 1)])\n"
     ]
    }
   ],
   "source": [
    "from keras.applications import mobilenet"
   ]
  },
  {
   "cell_type": "code",
   "execution_count": 2,
   "metadata": {},
   "outputs": [
    {
     "name": "stdout",
     "output_type": "stream",
     "text": [
      "WARNING:tensorflow:From c:\\users\\themachine\\.conda\\envs\\python36\\lib\\site-packages\\tensorflow\\python\\ops\\resource_variable_ops.py:435: colocate_with (from tensorflow.python.framework.ops) is deprecated and will be removed in a future version.\n",
      "Instructions for updating:\n",
      "Colocations handled automatically by placer.\n"
     ]
    }
   ],
   "source": [
    "model=mobilenet.MobileNet(include_top=True,weights='imagenet')"
   ]
  },
  {
   "cell_type": "code",
   "execution_count": 3,
   "metadata": {
    "scrolled": true
   },
   "outputs": [
    {
     "data": {
      "text/plain": [
       "[<keras.engine.input_layer.InputLayer at 0x1df283765c0>,\n",
       " <keras.layers.convolutional.ZeroPadding2D at 0x1df283bd128>,\n",
       " <keras.layers.convolutional.Conv2D at 0x1df283bd470>,\n",
       " <keras.layers.normalization.BatchNormalization at 0x1df283bd668>,\n",
       " <keras.layers.advanced_activations.ReLU at 0x1df283bddd8>,\n",
       " <keras.layers.convolutional.DepthwiseConv2D at 0x1df2846aef0>,\n",
       " <keras.layers.normalization.BatchNormalization at 0x1df28591e10>,\n",
       " <keras.layers.advanced_activations.ReLU at 0x1df283bdb38>,\n",
       " <keras.layers.convolutional.Conv2D at 0x1df28611fd0>,\n",
       " <keras.layers.normalization.BatchNormalization at 0x1df28631550>,\n",
       " <keras.layers.advanced_activations.ReLU at 0x1df285d4c50>,\n",
       " <keras.layers.convolutional.ZeroPadding2D at 0x1df2873a438>,\n",
       " <keras.layers.convolutional.DepthwiseConv2D at 0x1df286f3240>,\n",
       " <keras.layers.normalization.BatchNormalization at 0x1df28782390>,\n",
       " <keras.layers.advanced_activations.ReLU at 0x1df28782048>,\n",
       " <keras.layers.convolutional.Conv2D at 0x1df287967b8>,\n",
       " <keras.layers.normalization.BatchNormalization at 0x1df287d2128>,\n",
       " <keras.layers.advanced_activations.ReLU at 0x1df28796588>,\n",
       " <keras.layers.convolutional.DepthwiseConv2D at 0x1df288ba630>,\n",
       " <keras.layers.normalization.BatchNormalization at 0x1df28924748>,\n",
       " <keras.layers.advanced_activations.ReLU at 0x1df2885eef0>,\n",
       " <keras.layers.convolutional.Conv2D at 0x1df289c5630>,\n",
       " <keras.layers.normalization.BatchNormalization at 0x1df28981cc0>,\n",
       " <keras.layers.advanced_activations.ReLU at 0x1df289ebcc0>,\n",
       " <keras.layers.convolutional.ZeroPadding2D at 0x1df28a08ef0>,\n",
       " <keras.layers.convolutional.DepthwiseConv2D at 0x1df28a42be0>,\n",
       " <keras.layers.normalization.BatchNormalization at 0x1df28acf940>,\n",
       " <keras.layers.advanced_activations.ReLU at 0x1df28aedb00>,\n",
       " <keras.layers.convolutional.Conv2D at 0x1df28b42c50>,\n",
       " <keras.layers.normalization.BatchNormalization at 0x1df28b26438>,\n",
       " <keras.layers.advanced_activations.ReLU at 0x1df28b0e0b8>,\n",
       " <keras.layers.convolutional.DepthwiseConv2D at 0x1df28c4e6d8>,\n",
       " <keras.layers.normalization.BatchNormalization at 0x1df28c11c50>,\n",
       " <keras.layers.advanced_activations.ReLU at 0x1df28bd0a20>,\n",
       " <keras.layers.convolutional.Conv2D at 0x1df28cb1198>,\n",
       " <keras.layers.normalization.BatchNormalization at 0x1df28ced160>,\n",
       " <keras.layers.advanced_activations.ReLU at 0x1df28cb14e0>,\n",
       " <keras.layers.convolutional.ZeroPadding2D at 0x1df28dd3470>,\n",
       " <keras.layers.convolutional.DepthwiseConv2D at 0x1df28db6a58>,\n",
       " <keras.layers.normalization.BatchNormalization at 0x1df28e3e828>,\n",
       " <keras.layers.advanced_activations.ReLU at 0x1df28e3e7f0>,\n",
       " <keras.layers.convolutional.Conv2D at 0x1df28db69b0>,\n",
       " <keras.layers.normalization.BatchNormalization at 0x1df28e94be0>,\n",
       " <keras.layers.advanced_activations.ReLU at 0x1df28e58c18>,\n",
       " <keras.layers.convolutional.DepthwiseConv2D at 0x1df28f3a1d0>,\n",
       " <keras.layers.normalization.BatchNormalization at 0x1df28f7a128>,\n",
       " <keras.layers.advanced_activations.ReLU at 0x1df28fe8898>,\n",
       " <keras.layers.convolutional.Conv2D at 0x1df2905f208>,\n",
       " <keras.layers.normalization.BatchNormalization at 0x1df29040fd0>,\n",
       " <keras.layers.advanced_activations.ReLU at 0x1df290069e8>,\n",
       " <keras.layers.convolutional.DepthwiseConv2D at 0x1df2916c630>,\n",
       " <keras.layers.normalization.BatchNormalization at 0x1df291246a0>,\n",
       " <keras.layers.advanced_activations.ReLU at 0x1df290e59b0>,\n",
       " <keras.layers.convolutional.Conv2D at 0x1df291c7160>,\n",
       " <keras.layers.normalization.BatchNormalization at 0x1df29205198>,\n",
       " <keras.layers.advanced_activations.ReLU at 0x1df291c7080>,\n",
       " <keras.layers.convolutional.DepthwiseConv2D at 0x1df29314898>,\n",
       " <keras.layers.normalization.BatchNormalization at 0x1df293575f8>,\n",
       " <keras.layers.advanced_activations.ReLU at 0x1df29291da0>,\n",
       " <keras.layers.convolutional.Conv2D at 0x1df293f54e0>,\n",
       " <keras.layers.normalization.BatchNormalization at 0x1df2941b898>,\n",
       " <keras.layers.advanced_activations.ReLU at 0x1df293b1f98>,\n",
       " <keras.layers.convolutional.DepthwiseConv2D at 0x1df294551d0>,\n",
       " <keras.layers.normalization.BatchNormalization at 0x1df294deb38>,\n",
       " <keras.layers.advanced_activations.ReLU at 0x1df29476dd8>,\n",
       " <keras.layers.convolutional.Conv2D at 0x1df2959f668>,\n",
       " <keras.layers.normalization.BatchNormalization at 0x1df2955ac18>,\n",
       " <keras.layers.advanced_activations.ReLU at 0x1df2951f908>,\n",
       " <keras.layers.convolutional.DepthwiseConv2D at 0x1df295fd1d0>,\n",
       " <keras.layers.normalization.BatchNormalization at 0x1df2963c7b8>,\n",
       " <keras.layers.advanced_activations.ReLU at 0x1df295fd588>,\n",
       " <keras.layers.convolutional.Conv2D at 0x1df29722048>,\n",
       " <keras.layers.normalization.BatchNormalization at 0x1df29704fd0>,\n",
       " <keras.layers.advanced_activations.ReLU at 0x1df296c7d30>,\n",
       " <keras.layers.convolutional.ZeroPadding2D at 0x1df29832630>,\n",
       " <keras.layers.convolutional.DepthwiseConv2D at 0x1df297eaf60>,\n",
       " <keras.layers.normalization.BatchNormalization at 0x1df29872588>,\n",
       " <keras.layers.advanced_activations.ReLU at 0x1df29872240>,\n",
       " <keras.layers.convolutional.Conv2D at 0x1df2a8e1438>,\n",
       " <keras.layers.normalization.BatchNormalization at 0x1df298ccc88>,\n",
       " <keras.layers.advanced_activations.ReLU at 0x1df2a904470>,\n",
       " <keras.layers.convolutional.DepthwiseConv2D at 0x1df2a93f128>,\n",
       " <keras.layers.normalization.BatchNormalization at 0x1df2a960978>,\n",
       " <keras.layers.advanced_activations.ReLU at 0x1df2a9ed198>,\n",
       " <keras.layers.convolutional.Conv2D at 0x1df2aa887f0>,\n",
       " <keras.layers.normalization.BatchNormalization at 0x1df2aa4bb70>,\n",
       " <keras.layers.advanced_activations.ReLU at 0x1df2aa081d0>,\n",
       " <keras.layers.pooling.GlobalAveragePooling2D at 0x1df2aaec128>,\n",
       " <keras.layers.core.Reshape at 0x1df2aaec6d8>,\n",
       " <keras.layers.core.Dropout at 0x1df2aaec940>,\n",
       " <keras.layers.convolutional.Conv2D at 0x1df2ab95e10>,\n",
       " <keras.layers.core.Reshape at 0x1df2abb6e48>,\n",
       " <keras.layers.core.Activation at 0x1df2abcd470>]"
      ]
     },
     "execution_count": 3,
     "metadata": {},
     "output_type": "execute_result"
    }
   ],
   "source": [
    "model.layers"
   ]
  },
  {
   "cell_type": "code",
   "execution_count": 4,
   "metadata": {},
   "outputs": [],
   "source": [
    "from keras.preprocessing import image\n",
    "import tensorflow as tf\n",
    "from tensorflow import Graph, Session"
   ]
  },
  {
   "cell_type": "code",
   "execution_count": 5,
   "metadata": {},
   "outputs": [],
   "source": [
    "img_height, img_width=224,224"
   ]
  },
  {
   "cell_type": "code",
   "execution_count": 6,
   "metadata": {},
   "outputs": [],
   "source": [
    "with open('imagenet_classes.json','r') as f:\n",
    "    labelInfo=f.read()"
   ]
  },
  {
   "cell_type": "code",
   "execution_count": 7,
   "metadata": {},
   "outputs": [],
   "source": [
    "import json"
   ]
  },
  {
   "cell_type": "code",
   "execution_count": 8,
   "metadata": {},
   "outputs": [],
   "source": [
    "labelInfo=json.loads(labelInfo)"
   ]
  },
  {
   "cell_type": "code",
   "execution_count": 10,
   "metadata": {},
   "outputs": [],
   "source": [
    "# labelInfo"
   ]
  },
  {
   "cell_type": "code",
   "execution_count": 11,
   "metadata": {},
   "outputs": [],
   "source": [
    "testimage='sumatran-tiger-wz-gsmp-m.jpg'"
   ]
  },
  {
   "cell_type": "code",
   "execution_count": 12,
   "metadata": {},
   "outputs": [],
   "source": [
    "img = image.load_img(testimage, target_size=(img_height, img_width))\n",
    "x = image.img_to_array(img)\n",
    "x=x/255\n",
    "x=x.reshape(1,img_height, img_width,3)"
   ]
  },
  {
   "cell_type": "code",
   "execution_count": 14,
   "metadata": {},
   "outputs": [],
   "source": [
    "predi=model.predict(x)"
   ]
  },
  {
   "cell_type": "code",
   "execution_count": 15,
   "metadata": {},
   "outputs": [
    {
     "data": {
      "text/plain": [
       "array([[1.96413708e-09, 9.27411463e-08, 8.19617929e-10, 1.96776595e-10,\n",
       "        1.61576608e-09, 4.16268087e-09, 5.95130079e-09, 3.75574785e-07,\n",
       "        3.89508671e-07, 3.29280714e-09, 2.56338103e-06, 1.41353969e-08,\n",
       "        2.48200376e-08, 5.99897589e-08, 3.72893405e-09, 1.19972538e-06,\n",
       "        2.85831092e-08, 5.73639447e-08, 4.24466107e-09, 1.82481656e-08,\n",
       "        2.43248309e-07, 1.63494089e-08, 1.24576918e-10, 1.01549293e-08,\n",
       "        6.07001709e-07, 7.09087855e-09, 9.25624377e-09, 1.36072638e-08,\n",
       "        5.31605515e-08, 1.18662937e-08, 1.28711122e-06, 3.73916897e-09,\n",
       "        1.23826789e-08, 1.31727482e-08, 2.56816080e-09, 4.26829229e-06,\n",
       "        4.32877414e-06, 1.24070186e-06, 4.62102143e-08, 8.26876715e-07,\n",
       "        6.41841922e-08, 3.42855600e-07, 1.36568996e-08, 6.00527272e-08,\n",
       "        1.36556748e-08, 2.23536016e-08, 2.38426821e-07, 1.09826939e-08,\n",
       "        2.76658412e-08, 8.71008154e-08, 1.10661720e-08, 3.56653623e-10,\n",
       "        5.37631628e-09, 2.75246625e-09, 2.97840863e-09, 5.60540836e-10,\n",
       "        9.29485182e-08, 2.80128787e-09, 2.58576325e-08, 1.14743202e-08,\n",
       "        3.21102817e-07, 1.73825157e-07, 1.16904149e-08, 9.83475856e-10,\n",
       "        3.15946425e-09, 9.39757494e-10, 3.88977428e-09, 3.95979605e-09,\n",
       "        1.95028271e-10, 1.01572672e-09, 8.68578431e-10, 2.00111305e-08,\n",
       "        1.09233531e-06, 4.26420286e-08, 2.17844786e-07, 7.60241292e-09,\n",
       "        3.38742950e-07, 2.61426948e-07, 7.77265967e-08, 8.08653169e-07,\n",
       "        3.25384275e-09, 1.55645754e-08, 8.30365593e-07, 1.55213883e-07,\n",
       "        1.79437141e-08, 1.67225181e-07, 2.26151133e-08, 2.58266653e-09,\n",
       "        3.32265216e-07, 1.28426905e-08, 4.47828597e-07, 4.85216418e-08,\n",
       "        3.57053551e-08, 8.80564528e-08, 3.30329506e-08, 1.89200591e-07,\n",
       "        2.28873542e-09, 2.94526473e-07, 1.27931346e-08, 2.66041518e-08,\n",
       "        3.61026403e-10, 8.25277791e-10, 2.40376191e-10, 9.11060596e-08,\n",
       "        2.33628441e-07, 2.91536338e-07, 7.68853994e-08, 1.16322008e-09,\n",
       "        1.17805465e-09, 1.59080784e-08, 9.79893002e-08, 9.81294351e-11,\n",
       "        1.58542734e-09, 6.30979358e-08, 1.00343676e-07, 6.15797191e-09,\n",
       "        1.84410723e-07, 2.69842193e-08, 9.50793947e-07, 1.42250897e-07,\n",
       "        5.75747050e-09, 1.13382077e-06, 2.98413767e-07, 1.61378736e-07,\n",
       "        1.23244277e-07, 4.18020063e-09, 8.68070416e-09, 1.64262937e-09,\n",
       "        2.61754618e-08, 1.13956498e-08, 1.88028682e-09, 1.56486664e-08,\n",
       "        2.17073008e-08, 9.50486594e-07, 3.45179330e-09, 8.55202575e-09,\n",
       "        6.69035982e-09, 3.09013787e-10, 1.25752024e-07, 9.15153393e-08,\n",
       "        3.74018526e-07, 3.32898878e-07, 2.55822670e-07, 2.73478906e-09,\n",
       "        3.13078559e-08, 7.11524535e-07, 8.54771115e-11, 2.78170487e-09,\n",
       "        2.84079649e-10, 1.96400132e-10, 4.06983730e-07, 6.76064573e-08,\n",
       "        3.94241191e-08, 1.56453073e-10, 1.73881940e-08, 8.23837532e-09,\n",
       "        7.07478964e-09, 2.56046717e-09, 1.55968181e-08, 2.77806134e-06,\n",
       "        1.74264763e-08, 9.99629535e-08, 5.50788926e-08, 3.31892593e-08,\n",
       "        8.44101766e-09, 1.25178703e-08, 1.10513021e-08, 3.10623207e-08,\n",
       "        1.63474368e-07, 6.90993973e-09, 1.53133850e-09, 2.04358450e-08,\n",
       "        9.88910065e-10, 3.69184576e-08, 1.98192698e-08, 2.61231303e-09,\n",
       "        1.02729469e-08, 2.71378475e-10, 2.32124329e-08, 2.46122340e-08,\n",
       "        1.65953811e-08, 1.12441012e-09, 4.12651708e-08, 6.64413413e-09,\n",
       "        6.19923384e-08, 4.13205363e-08, 5.20349772e-08, 9.26688273e-08,\n",
       "        2.80270962e-09, 8.58264837e-09, 2.46587883e-09, 1.89009697e-08,\n",
       "        8.51374704e-09, 2.55845247e-08, 3.18986104e-09, 1.70348411e-08,\n",
       "        1.20516201e-08, 8.28560420e-09, 1.73472600e-07, 3.16430082e-09,\n",
       "        1.92546139e-08, 4.99797137e-09, 5.16338048e-07, 1.21700037e-08,\n",
       "        6.21489349e-09, 6.98254299e-09, 4.27424707e-10, 5.21931227e-08,\n",
       "        1.83898777e-07, 1.49622608e-07, 1.25332082e-08, 2.78608042e-07,\n",
       "        1.50517874e-08, 4.45277450e-08, 1.82367188e-08, 4.54528731e-07,\n",
       "        1.81310735e-08, 2.40460363e-08, 7.72126825e-08, 3.82452185e-08,\n",
       "        1.99470733e-08, 1.10219363e-08, 8.76246542e-09, 8.37332053e-08,\n",
       "        2.56082995e-08, 1.67756610e-07, 1.27686040e-09, 7.92539879e-07,\n",
       "        1.89555371e-10, 2.61464095e-09, 2.53057539e-08, 2.28357289e-09,\n",
       "        1.95275362e-07, 1.46123362e-08, 7.96437760e-08, 3.29346825e-08,\n",
       "        8.87508165e-08, 3.64938984e-07, 4.18052970e-08, 3.07356345e-07,\n",
       "        1.15329769e-07, 5.46447154e-09, 5.72930105e-07, 1.96276858e-07,\n",
       "        5.19095522e-07, 2.80855481e-08, 2.12437978e-08, 5.67774521e-08,\n",
       "        4.10654451e-07, 5.82337449e-08, 7.97464168e-07, 2.80584823e-06,\n",
       "        5.14849385e-10, 5.24855977e-07, 4.04514992e-07, 3.81880909e-07,\n",
       "        1.15377450e-08, 1.35852407e-09, 2.10654849e-09, 1.00677191e-08,\n",
       "        1.48063828e-06, 1.13996075e-08, 6.55465840e-07, 2.61480807e-07,\n",
       "        2.51187288e-07, 2.10043805e-09, 1.78122517e-09, 1.01638764e-09,\n",
       "        7.35480288e-10, 1.29077620e-07, 8.16204970e-09, 2.25324143e-07,\n",
       "        1.84436217e-07, 3.63521941e-08, 4.91378887e-05, 2.20886136e-07,\n",
       "        1.76885511e-08, 1.37552405e-07, 8.06533222e-08, 2.28071411e-08,\n",
       "        6.09625033e-07, 3.30490264e-04, 7.50556067e-02, 5.42219745e-08,\n",
       "        2.18294616e-07, 3.31586198e-05, 2.98499472e-05, 1.10136217e-03,\n",
       "        1.87444239e-04, 6.45204782e-05, 1.60368552e-04, 2.99537601e-06,\n",
       "        9.22531366e-01, 4.82576343e-06, 3.29680091e-07, 6.48816822e-09,\n",
       "        2.11686864e-08, 3.42541639e-08, 4.22566615e-07, 8.74562218e-08,\n",
       "        4.30370974e-08, 1.78163031e-08, 1.49564116e-07, 5.35136905e-07,\n",
       "        2.48285943e-07, 1.33051659e-08, 4.33566328e-07, 1.01106757e-07,\n",
       "        3.50958516e-08, 1.95026064e-06, 5.01342186e-08, 1.05803274e-07,\n",
       "        8.34763085e-08, 4.66288199e-08, 2.38161604e-07, 1.56650319e-08,\n",
       "        1.72892229e-07, 2.58807251e-08, 1.85867250e-08, 7.33780041e-08,\n",
       "        3.47390650e-09, 2.43090739e-08, 2.28647778e-07, 1.21069149e-06,\n",
       "        2.67951208e-08, 7.97232644e-08, 3.61519994e-07, 8.56763371e-09,\n",
       "        9.93775728e-09, 8.43567349e-09, 6.88202636e-06, 1.82934184e-06,\n",
       "        7.50520925e-08, 6.75983756e-07, 4.16276791e-09, 2.38008920e-06,\n",
       "        1.38002758e-06, 7.38716790e-06, 8.82090490e-07, 6.61207400e-09,\n",
       "        3.86426791e-06, 5.98055385e-06, 1.25628264e-06, 1.87054034e-08,\n",
       "        1.45729802e-08, 4.47756641e-08, 1.00746100e-09, 2.16778808e-08,\n",
       "        1.30495623e-08, 2.59160293e-09, 2.71391194e-08, 2.01603125e-08,\n",
       "        4.47327494e-07, 1.60703138e-07, 1.24483934e-08, 1.28909960e-07,\n",
       "        7.37134428e-07, 3.21327207e-06, 8.31327895e-08, 1.04896385e-08,\n",
       "        3.66834740e-07, 1.60909313e-08, 2.14253255e-08, 1.13211254e-08,\n",
       "        3.17612225e-09, 9.35653759e-08, 8.30219804e-09, 1.65449396e-08,\n",
       "        7.96363295e-08, 2.40639295e-08, 1.17819638e-07, 6.77243293e-07,\n",
       "        1.67649201e-08, 2.67124705e-07, 4.04576141e-08, 6.68593314e-09,\n",
       "        1.44383307e-07, 5.71724968e-07, 1.64792109e-08, 5.73989674e-08,\n",
       "        1.22189772e-06, 8.48254871e-08, 4.17792933e-07, 1.73429754e-07,\n",
       "        4.27870731e-07, 1.74880344e-09, 2.18185758e-09, 5.01264026e-07,\n",
       "        8.37080893e-09, 1.31814382e-09, 2.96451308e-08, 2.98312877e-08,\n",
       "        8.70521077e-09, 1.20264931e-09, 3.92346111e-09, 2.33768604e-09,\n",
       "        3.72768261e-09, 3.96049273e-08, 9.73440137e-08, 1.76538173e-10,\n",
       "        1.39658507e-10, 9.49031431e-08, 9.64124958e-09, 3.03028824e-10,\n",
       "        2.72297407e-09, 2.50259397e-10, 1.75914145e-08, 3.31469019e-10,\n",
       "        4.33758842e-08, 2.75348270e-07, 1.20177106e-07, 4.71169784e-07,\n",
       "        1.85413754e-07, 2.90006730e-09, 4.45116939e-08, 9.95620394e-06,\n",
       "        2.11486210e-07, 1.23777681e-08, 2.79911561e-08, 1.29932403e-07,\n",
       "        4.30992024e-08, 1.67483577e-07, 2.46741383e-08, 3.14363859e-08,\n",
       "        3.16897726e-08, 3.51747120e-09, 2.45522660e-08, 1.87427688e-07,\n",
       "        1.52371319e-06, 3.85281851e-07, 2.21391218e-07, 8.73421602e-09,\n",
       "        5.33464029e-09, 6.45605098e-08, 1.16823236e-08, 7.59317089e-08,\n",
       "        3.92314746e-07, 7.15490867e-09, 3.35326718e-08, 7.49327533e-09,\n",
       "        4.85685450e-06, 1.20603536e-05, 6.67040894e-08, 2.80587731e-08,\n",
       "        5.31981073e-07, 6.71303937e-08, 8.54201598e-09, 1.42848791e-07,\n",
       "        1.18735890e-07, 5.11723670e-07, 4.81644342e-08, 2.68038991e-09,\n",
       "        8.45584136e-09, 2.15768168e-08, 2.50133656e-08, 5.38251952e-05,\n",
       "        4.21436885e-09, 1.08563256e-06, 1.42407675e-09, 2.52729415e-09,\n",
       "        2.79638201e-09, 1.64409630e-09, 2.26283059e-09, 1.25783026e-06,\n",
       "        1.00343236e-08, 1.01809894e-09, 4.69311534e-10, 4.45541264e-06,\n",
       "        4.93806880e-08, 1.13377155e-07, 8.26471123e-08, 1.01543440e-09,\n",
       "        1.17399316e-06, 7.06570376e-08, 4.11802897e-10, 5.11417264e-09,\n",
       "        1.08125056e-08, 7.64606434e-10, 9.35746627e-08, 1.40216301e-07,\n",
       "        4.58957039e-10, 1.09833014e-08, 4.76216178e-09, 1.43981174e-08,\n",
       "        6.87939448e-08, 1.11524550e-08, 2.39813627e-08, 6.33332631e-09,\n",
       "        1.29375508e-07, 4.19598564e-07, 3.05166337e-09, 5.34571768e-07,\n",
       "        2.65420645e-08, 2.87501334e-09, 1.48731885e-07, 8.85936480e-09,\n",
       "        9.61896451e-10, 4.08188896e-08, 5.17673975e-08, 6.17371931e-09,\n",
       "        4.01416594e-10, 6.22346974e-09, 8.94969006e-08, 3.55921443e-08,\n",
       "        7.21310926e-07, 1.51317519e-08, 1.26278934e-08, 4.59416697e-07,\n",
       "        5.32118577e-07, 1.82097196e-07, 6.44537701e-10, 3.61912029e-08,\n",
       "        4.77799267e-09, 7.79933131e-08, 1.33361366e-08, 2.18930385e-08,\n",
       "        3.64457797e-08, 2.41939779e-09, 6.75725573e-08, 6.00182830e-07,\n",
       "        3.60159476e-08, 5.38999302e-07, 9.54376844e-09, 6.79744474e-08,\n",
       "        2.65855588e-10, 1.92681959e-09, 5.49943313e-10, 2.46227057e-08,\n",
       "        9.59281081e-08, 1.16820118e-08, 7.91474886e-09, 1.36403173e-08,\n",
       "        4.39576843e-06, 6.94735247e-09, 4.70104027e-08, 5.74330750e-10,\n",
       "        5.00926411e-08, 4.83052190e-07, 1.81984872e-09, 4.27250143e-07,\n",
       "        8.28724733e-09, 2.42857737e-07, 7.74520785e-08, 8.87707419e-09,\n",
       "        4.92926091e-08, 1.51653137e-06, 2.84120438e-09, 4.27340163e-09,\n",
       "        4.56013838e-10, 1.13230687e-08, 1.15335141e-09, 3.58350505e-08,\n",
       "        6.61089175e-08, 2.65091273e-08, 1.43903678e-09, 1.06685931e-08,\n",
       "        3.48224702e-08, 2.36089237e-09, 7.32075511e-09, 6.61887825e-08,\n",
       "        2.81528429e-07, 8.21398893e-10, 7.19082536e-08, 1.09921194e-09,\n",
       "        6.84920898e-10, 1.26846047e-07, 2.72425979e-07, 5.28089643e-08,\n",
       "        8.87834574e-07, 2.64728861e-09, 1.87713711e-09, 2.09984541e-09,\n",
       "        2.89367733e-07, 2.42808991e-08, 1.65599900e-09, 6.39824471e-10,\n",
       "        1.04043309e-07, 1.76874451e-07, 2.24368413e-09, 8.15657586e-08,\n",
       "        3.40587064e-07, 4.24036045e-07, 4.21080404e-06, 7.01960878e-10,\n",
       "        4.99695840e-10, 6.07639663e-08, 5.76025727e-10, 1.30995815e-07,\n",
       "        2.37770905e-08, 3.88170340e-09, 3.68193565e-09, 4.52582727e-09,\n",
       "        3.17127075e-07, 1.56015261e-07, 2.29362236e-08, 3.88044291e-10,\n",
       "        8.07265792e-08, 1.74810222e-10, 1.88143479e-09, 4.53089779e-05,\n",
       "        1.96856642e-09, 2.97527863e-10, 1.89700984e-06, 4.79827875e-08,\n",
       "        4.21256852e-09, 3.76961662e-09, 7.27002236e-09, 3.94255323e-07,\n",
       "        4.79983484e-08, 1.30021833e-08, 6.58144872e-09, 1.03144441e-06,\n",
       "        5.93108780e-08, 9.18224496e-10, 1.87820515e-08, 1.26712441e-09,\n",
       "        1.43333356e-09, 6.67581901e-08, 6.68688358e-07, 7.01388814e-08,\n",
       "        2.40341734e-07, 7.34902939e-09, 8.18781643e-07, 7.40200834e-09,\n",
       "        6.36035802e-09, 3.63322130e-07, 3.69053987e-06, 3.40614786e-10,\n",
       "        2.07104840e-08, 1.21784971e-09, 7.60193075e-10, 1.51320130e-08,\n",
       "        4.19685753e-09, 3.84530068e-07, 8.66173444e-09, 3.39436070e-08,\n",
       "        2.81094326e-09, 2.23653700e-08, 1.16995217e-07, 8.75031560e-07,\n",
       "        2.34285502e-09, 1.45939802e-08, 9.64801075e-07, 1.25370278e-07,\n",
       "        2.66874505e-08, 8.86527685e-10, 1.52965782e-08, 4.68875427e-08,\n",
       "        2.76165455e-08, 5.58437518e-10, 2.47461536e-08, 3.28318208e-08,\n",
       "        2.37748432e-10, 4.66705501e-08, 2.15897842e-08, 6.33159880e-09,\n",
       "        1.52988537e-08, 8.72034112e-11, 3.45488274e-07, 2.84290110e-07,\n",
       "        3.40478081e-08, 6.36900177e-09, 3.11239812e-09, 5.24389643e-09,\n",
       "        1.55084265e-07, 8.56492548e-08, 1.98931964e-08, 2.81349255e-08,\n",
       "        1.98554706e-09, 2.05226680e-09, 1.75529649e-07, 2.97756930e-08,\n",
       "        1.47092483e-09, 1.01255942e-07, 3.05042413e-05, 7.10549675e-10,\n",
       "        6.42348965e-08, 8.19004597e-08, 2.18438618e-08, 1.72820922e-08,\n",
       "        5.62694202e-09, 4.13564738e-09, 1.69920980e-07, 4.80573448e-08,\n",
       "        1.26160487e-08, 2.23126095e-09, 7.32568628e-09, 7.28500282e-08,\n",
       "        5.76642400e-10, 1.35462985e-09, 4.50911379e-08, 5.79246151e-10,\n",
       "        7.62573649e-09, 1.14572310e-06, 7.82709435e-08, 2.29727732e-07,\n",
       "        5.07103559e-09, 7.20820648e-09, 1.78269872e-07, 5.68610847e-09,\n",
       "        2.36979844e-07, 4.91817420e-10, 1.06554218e-07, 3.30545689e-08,\n",
       "        2.28266046e-07, 4.82307838e-09, 2.36229791e-09, 4.59576839e-08,\n",
       "        7.05606684e-10, 4.84188604e-07, 7.12493815e-08, 1.67227100e-07,\n",
       "        7.95287107e-08, 7.45408513e-10, 4.43678552e-08, 6.25896801e-09,\n",
       "        5.36250639e-07, 7.45788586e-09, 1.45561929e-09, 6.55409238e-08,\n",
       "        1.22838031e-07, 2.84742292e-08, 2.10698272e-05, 6.50951015e-10,\n",
       "        6.01344468e-08, 3.62745340e-07, 2.80104739e-09, 6.11527362e-09,\n",
       "        4.22714123e-07, 1.15507919e-06, 5.34955724e-09, 2.15144652e-07,\n",
       "        1.26072619e-09, 2.63354121e-08, 2.14544316e-09, 2.62736854e-09,\n",
       "        3.45042572e-08, 7.63395178e-07, 3.61733257e-08, 2.73966005e-09,\n",
       "        8.36072456e-09, 8.11149121e-08, 2.14794099e-07, 2.26197594e-09,\n",
       "        1.39991074e-10, 3.43351125e-10, 4.04585414e-08, 1.77337938e-07,\n",
       "        2.04873629e-08, 4.75985562e-09, 6.37805897e-07, 2.08205734e-06,\n",
       "        1.83316811e-08, 8.47228148e-06, 7.83254173e-09, 1.23402039e-10,\n",
       "        1.75875996e-07, 3.17941962e-09, 8.16396462e-09, 3.50170879e-08,\n",
       "        6.94780965e-07, 2.91995015e-08, 9.78215212e-06, 2.31123143e-09,\n",
       "        1.40967260e-09, 5.52210047e-08, 1.62322138e-07, 7.91903609e-09,\n",
       "        5.55248576e-08, 2.80304931e-07, 2.81439991e-08, 9.09153641e-10,\n",
       "        6.81089940e-09, 1.41048031e-06, 2.07133177e-09, 2.02487556e-08,\n",
       "        1.14978942e-08, 5.40214484e-10, 6.27232888e-09, 9.66327391e-08,\n",
       "        9.48810595e-08, 5.16364840e-10, 2.71093725e-08, 5.78474975e-08,\n",
       "        1.62839072e-07, 1.74952408e-09, 3.37967663e-08, 1.20050467e-08,\n",
       "        2.21794743e-08, 3.74077347e-09, 3.30722287e-06, 1.29673504e-06,\n",
       "        1.26026833e-07, 2.44324880e-08, 3.76612430e-09, 4.32462670e-08,\n",
       "        2.22100809e-08, 1.23183934e-08, 1.85801940e-09, 8.51178683e-08,\n",
       "        3.74055453e-08, 1.96825511e-07, 9.39675537e-09, 7.48580860e-08,\n",
       "        3.07092769e-08, 3.37814292e-08, 1.67764142e-07, 8.54311483e-11,\n",
       "        1.63574878e-08, 1.97738291e-06, 5.41964074e-09, 1.11484404e-07,\n",
       "        4.82874574e-10, 5.95323684e-07, 5.39403686e-08, 1.23089109e-07,\n",
       "        9.95304639e-09, 3.33352403e-08, 9.27018373e-09, 1.53062079e-08,\n",
       "        1.21082309e-08, 2.96051117e-09, 1.81818338e-09, 4.31453184e-09,\n",
       "        2.51920396e-09, 6.07232375e-10, 8.04305387e-07, 1.26662965e-08,\n",
       "        1.00344629e-07, 6.26226360e-09, 3.99755180e-08, 2.02294910e-08,\n",
       "        1.04851033e-07, 3.41872441e-09, 8.51611759e-09, 5.86217563e-09,\n",
       "        1.85943829e-08, 1.73650925e-08, 1.25977024e-08, 7.55185958e-09,\n",
       "        5.18736520e-08, 8.34722130e-07, 1.70976421e-07, 1.36591405e-08,\n",
       "        2.22676300e-09, 1.79712867e-08, 4.78133927e-07, 1.86804372e-09,\n",
       "        3.03723768e-10, 5.49184982e-08, 7.92866857e-08, 5.22452837e-09,\n",
       "        9.83762050e-08, 3.75964326e-09, 2.87150748e-08, 1.09861560e-07,\n",
       "        3.74199427e-09, 7.96071298e-09, 5.54089885e-09, 1.69846373e-06,\n",
       "        1.05743048e-07, 1.43132104e-06, 7.13841857e-08, 4.63243843e-09,\n",
       "        1.71063674e-09, 2.85120137e-07, 1.45601642e-09, 7.06292402e-09,\n",
       "        1.91679010e-06, 6.38584574e-10, 5.85863233e-07, 6.66900624e-09,\n",
       "        3.40876238e-09, 1.15476073e-08, 7.49217188e-10, 1.33925283e-07,\n",
       "        1.07298047e-06, 4.32550138e-08, 9.87435342e-08, 4.40296111e-09,\n",
       "        1.16538651e-07, 1.54572930e-07, 6.18853857e-09, 6.90365951e-08,\n",
       "        9.68923608e-09, 2.96666669e-09, 1.30199274e-08, 1.72612624e-09,\n",
       "        3.11923842e-09, 3.37831210e-07, 5.34424371e-09, 3.67859116e-07,\n",
       "        3.44898666e-07, 4.24765734e-09, 4.92490715e-09, 1.94981781e-10,\n",
       "        7.43743067e-09, 2.47673881e-09, 3.70317217e-08, 8.90971194e-07,\n",
       "        1.19246488e-08, 5.62783598e-08, 3.35875292e-08, 1.95858654e-08,\n",
       "        1.28143574e-06, 9.65934817e-08, 1.41417811e-09, 2.26447678e-08,\n",
       "        3.20158677e-10, 2.49827906e-07, 3.02877743e-06, 4.27082867e-08,\n",
       "        7.41993222e-09, 4.81257256e-10, 2.29627943e-08, 5.08187048e-09,\n",
       "        2.19646745e-09, 6.15370482e-07, 2.83395867e-08, 4.84429492e-08,\n",
       "        4.91068697e-09, 6.73719214e-08, 5.46666321e-08, 1.02070010e-06,\n",
       "        2.42606237e-08, 8.49042703e-09, 5.50345021e-07, 1.31366937e-06,\n",
       "        6.89858211e-07, 2.67123801e-06, 2.87035505e-06, 4.49582672e-07,\n",
       "        1.16313593e-07, 6.29716634e-09, 2.06430673e-06, 6.57890723e-07,\n",
       "        1.00006190e-08, 1.21044621e-07, 3.25372184e-07, 1.14397026e-05,\n",
       "        7.72759336e-07, 1.89634388e-08, 7.65939490e-07, 1.13072232e-07,\n",
       "        2.17568328e-08, 4.08488745e-08, 1.28001636e-08, 2.29777470e-07,\n",
       "        6.88237378e-08, 6.07135780e-06, 1.98774103e-07, 1.02610009e-08,\n",
       "        2.40266900e-08, 2.65308415e-07, 2.14209450e-07, 1.24617031e-07,\n",
       "        1.40762535e-09, 7.01715578e-07, 5.06111197e-09, 7.56521246e-08,\n",
       "        2.52429186e-06, 2.06855631e-07, 2.49708108e-07, 8.94437471e-06,\n",
       "        9.69484745e-07, 5.15717784e-06, 2.33877540e-08, 3.53493476e-07,\n",
       "        2.66009692e-07, 4.63038714e-06, 3.02501157e-09, 5.06920088e-08,\n",
       "        4.27311408e-10, 1.34064502e-08, 8.27987350e-08, 2.35494362e-08,\n",
       "        3.02201286e-09, 2.28978347e-09, 1.30503409e-07, 1.46169277e-09,\n",
       "        6.51878240e-09, 6.70822287e-09, 1.17687398e-08, 1.27739206e-08,\n",
       "        6.39591713e-09, 6.33589980e-09, 2.28307869e-07, 3.68592532e-06,\n",
       "        3.72701425e-09, 1.76920352e-07, 1.74705725e-08, 1.18344916e-08,\n",
       "        1.48455896e-08, 4.38705916e-09, 1.80555997e-08, 3.39944677e-08,\n",
       "        7.62104335e-08, 4.04020369e-07, 3.75114098e-07, 1.19947243e-08]],\n",
       "      dtype=float32)"
      ]
     },
     "execution_count": 15,
     "metadata": {},
     "output_type": "execute_result"
    }
   ],
   "source": [
    "predi"
   ]
  },
  {
   "cell_type": "code",
   "execution_count": 10,
   "metadata": {},
   "outputs": [],
   "source": [
    "# img = image.load_img(testimage, target_size=(img_height, img_width))\n",
    "# x = image.img_to_array(img)\n",
    "# x=x/255\n",
    "# x=x.reshape(1,img_height, img_width,3)\n",
    "# model_graph = modeScope['modelObj']['model_graph']\n",
    "# tf_session = modeScope['modelObj']['tf_session']\n",
    "# with model_graph.as_default():\n",
    "#     with tf_session.as_default():\n",
    "#         modelToUse=modeScope['modelObj']['recoModelObj'].model\n",
    "#         predi=modelToUse.predict(x)"
   ]
  },
  {
   "cell_type": "code",
   "execution_count": 16,
   "metadata": {},
   "outputs": [
    {
     "data": {
      "text/plain": [
       "292"
      ]
     },
     "execution_count": 16,
     "metadata": {},
     "output_type": "execute_result"
    }
   ],
   "source": [
    "import numpy as np\n",
    "np.argmax(predi[0])"
   ]
  },
  {
   "cell_type": "code",
   "execution_count": 17,
   "metadata": {},
   "outputs": [
    {
     "data": {
      "text/plain": [
       "['n02129604', 'tiger']"
      ]
     },
     "execution_count": 17,
     "metadata": {},
     "output_type": "execute_result"
    }
   ],
   "source": [
    "labelInfo['292']"
   ]
  },
  {
   "cell_type": "code",
   "execution_count": 13,
   "metadata": {},
   "outputs": [],
   "source": [
    "testimage='bird-article-s.png'\n",
    "img = image.load_img(testimage, target_size=(img_height, img_width))\n",
    "x = image.img_to_array(img)\n",
    "x=x/255\n",
    "x=x.reshape(1,img_height, img_width,3)\n",
    "# model_graph = tf.\n",
    "# tf_session = modeScope['modelObj']['tf_session']\n",
    "# with model_graph.as_default():\n",
    "#     with tf_session.as_default():\n",
    "#         modelToUse=modeScope['modelObj']['recoModelObj'].model\n",
    "predi=model.predict(x)"
   ]
  },
  {
   "cell_type": "code",
   "execution_count": 14,
   "metadata": {},
   "outputs": [
    {
     "data": {
      "text/plain": [
       "11"
      ]
     },
     "execution_count": 14,
     "metadata": {},
     "output_type": "execute_result"
    }
   ],
   "source": [
    "import numpy as np\n",
    "np.argmax(predi[0])"
   ]
  },
  {
   "cell_type": "code",
   "execution_count": 15,
   "metadata": {},
   "outputs": [
    {
     "data": {
      "text/plain": [
       "['n01531178', 'goldfinch']"
      ]
     },
     "execution_count": 15,
     "metadata": {},
     "output_type": "execute_result"
    }
   ],
   "source": [
    "labelInfo['11']"
   ]
  },
  {
   "cell_type": "code",
   "execution_count": 18,
   "metadata": {},
   "outputs": [],
   "source": [
    "model.save('MobileNetModelImagenet.h5')"
   ]
  },
  {
   "cell_type": "code",
   "execution_count": 18,
   "metadata": {},
   "outputs": [],
   "source": [
    "import keras"
   ]
  },
  {
   "cell_type": "code",
   "execution_count": 19,
   "metadata": {},
   "outputs": [],
   "source": [
    "from keras.models import load_model"
   ]
  },
  {
   "cell_type": "code",
   "execution_count": 20,
   "metadata": {},
   "outputs": [
    {
     "name": "stderr",
     "output_type": "stream",
     "text": [
      "C:\\Users\\swsh\\AppData\\Local\\Continuum\\anaconda3\\envs\\py36\\lib\\site-packages\\keras\\engine\\saving.py:292: UserWarning: No training configuration found in save file: the model was *not* compiled. Compile it manually.\n",
      "  warnings.warn('No training configuration found in save file: '\n"
     ]
    },
    {
     "data": {
      "text/plain": [
       "<keras.engine.training.Model at 0x22c19f196a0>"
      ]
     },
     "execution_count": 20,
     "metadata": {},
     "output_type": "execute_result"
    }
   ],
   "source": [
    "load_model('MobileNetModelImagenet.h5')"
   ]
  },
  {
   "cell_type": "code",
   "execution_count": null,
   "metadata": {},
   "outputs": [],
   "source": []
  }
 ],
 "metadata": {
  "kernelspec": {
   "display_name": "Python 3",
   "language": "python",
   "name": "python3"
  },
  "language_info": {
   "codemirror_mode": {
    "name": "ipython",
    "version": 3
   },
   "file_extension": ".py",
   "mimetype": "text/x-python",
   "name": "python",
   "nbconvert_exporter": "python",
   "pygments_lexer": "ipython3",
   "version": "3.6.9"
  }
 },
 "nbformat": 4,
 "nbformat_minor": 2
}
